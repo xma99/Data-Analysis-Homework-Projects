{
  "nbformat": 4,
  "nbformat_minor": 0,
  "metadata": {
    "colab": {
      "provenance": []
    },
    "kernelspec": {
      "name": "python3",
      "display_name": "Python 3"
    },
    "language_info": {
      "name": "python"
    }
  },
  "cells": [
    {
      "cell_type": "markdown",
      "source": [
        "**Question 1. (60 pts total)** For this question you will be using either the dplyr package from R or\n",
        "the Pandas library in Python to manipulate and clean up a dataset called NBA_Stats_22_23.csv\n",
        "(available in the Modules section on Canvas under the folder Datasets for Assignments). This data\n",
        "was pulled from https://www.nba.com/stats website.\n",
        "\n",
        "The dataset contains information about the Men’s National Basketball Association games in 2022-2023. It has 539 rows and 25 variables. Here is a description of the variables:\n",
        "\n",
        "Variable Description\n",
        "\n",
        "PLAYER Name of the player\n",
        "\n",
        "TEAM Name of the team\n",
        "\n",
        "AGE Age of the player\n",
        "\n",
        "GP Games Played\n",
        "\n",
        "W Wins\n",
        "\n",
        "L Losses\n",
        "\n",
        "MIN Minutes Played\n",
        "\n",
        "PTS Points\n",
        "\n",
        "FGM Field Goals Made\n",
        "\n",
        "FGA Field Goals Attempted\n",
        "\n",
        "X3PM 3 Point Field Goals Made\n",
        "\n",
        "X3PA 3 Point Field Goals Attempted\n",
        "\n",
        "FTM Free Throws Made\n",
        "\n",
        "FTA Free Throws Attempted\n",
        "\n",
        "OREB Offensive Rebounds\n",
        "\n",
        "DREB Defensive Rebounds\n",
        "\n",
        "REB Rebounds\n",
        "\n",
        "AST Assists\n",
        "\n",
        "TOV Turnovers\n",
        "\n",
        "STL Steals\n",
        "\n",
        "BLK Blocks\n",
        "\n",
        "PF Personal Fouls\n",
        "\n",
        "FP Fantasy points\n",
        "\n",
        "DD2 Double Doubles\n",
        "\n",
        "TD3 Triple Doubles\n",
        "\n",
        "Load the data into R or Python. All the tasks in this assignment can be hand coded, but the goal is\n",
        "to use the functions built into dplyr or Pandasto complete the tasks. Suggested functions for Python\n",
        "are shown in blue while suggested R functions are shown in red. Note: if you are using Python, be\n",
        "sure to load the data as a Pandas DataFrame."
      ],
      "metadata": {
        "id": "mtGLzZKnZV_c"
      }
    },
    {
      "cell_type": "markdown",
      "source": [
        "Below are the tasks to perform. Before you begin, print the first few values of the columns with a header containing the string “X3”. (head(), head())"
      ],
      "metadata": {
        "id": "ED9WX4AjaZI3"
      }
    },
    {
      "cell_type": "code",
      "source": [
        "import pandas as pd\n",
        "nba = pd.read_csv('NBA_Stats_22_23.csv')\n",
        "filter_x3 = pd.read_csv('NBA_Stats_22_23.csv').filter(like='X3')\n",
        "print(filter_x3.head())"
      ],
      "metadata": {
        "colab": {
          "base_uri": "https://localhost:8080/"
        },
        "id": "v01gGw6kbcdq",
        "outputId": "74b1c6d4-39cb-4167-d333-66e092d7a32a"
      },
      "execution_count": null,
      "outputs": [
        {
          "output_type": "stream",
          "name": "stdout",
          "text": [
            "   X3PM  X3PA\n",
            "0   101   259\n",
            "1    36    88\n",
            "2   146   360\n",
            "3     0     4\n",
            "4     0     1\n"
          ]
        }
      ]
    },
    {
      "cell_type": "markdown",
      "source": [
        "**a) (10 pts)** Count the number of players with Free Throws Made greater than 60 and Assists\n",
        "greater than 80. (filter(), query())\n"
      ],
      "metadata": {
        "id": "iRfu7xyBks_O"
      }
    },
    {
      "cell_type": "code",
      "source": [
        "import pandas as pd\n",
        "\n",
        "# Use query.\n",
        "find_players = nba.query('FTM > 60 and AST > 80')\n",
        "# Then count the number of players and print.\n",
        "count_player = len(find_players)\n",
        "print(\"The number of players with Free Throws Made greater than 60 and Assists greater than 80 is\", count_player)"
      ],
      "metadata": {
        "colab": {
          "base_uri": "https://localhost:8080/"
        },
        "id": "Was2vHJnkuQA",
        "outputId": "9948bf0b-4de1-43cb-e24e-d4f5478e9a12"
      },
      "execution_count": null,
      "outputs": [
        {
          "output_type": "stream",
          "name": "stdout",
          "text": [
            "The number of players with Free Throws Made greater than 60 and Assists greater than 80 is 189\n"
          ]
        }
      ]
    },
    {
      "cell_type": "markdown",
      "source": [
        "**b) (10 pts)** Print the PLAYER, TEAM, W, L, FGM, TOV and PTS of the players with the 10\n",
        "highest points, in descending order of points. (select(), arrange(), loc(), sort_values()). Which\n",
        "player has the second highest points?"
      ],
      "metadata": {
        "id": "clLqBASLpQ3u"
      }
    },
    {
      "cell_type": "code",
      "source": [
        "import pandas as pd\n",
        "\n",
        "# Sorted as descending order of points.\n",
        "sorted_order = nba.sort_values(by = 'PTS', ascending=False)\n",
        "\n",
        "# Find the PLAYER, TEAM, W, L, FGM, TOV and PTS of the players.\n",
        "new_columns = ['PLAYER', 'TEAM', 'W', 'L', 'FGM', 'TOV', 'PTS']\n",
        "top_players = sorted_order[new_columns].head(10)\n",
        "print(\"Top 10 players is\")\n",
        "print(top_players)\n",
        "print(\"------------------------------\")\n",
        "# Find the player has the second highest points.\n",
        "second_players = top_players.iloc[1]\n",
        "print(\"The player has the second highest points is\")\n",
        "print(second_players)"
      ],
      "metadata": {
        "colab": {
          "base_uri": "https://localhost:8080/"
        },
        "id": "Qv28hSHYpR76",
        "outputId": "94fa486a-81d9-48d9-a427-d83d1108fe14"
      },
      "execution_count": null,
      "outputs": [
        {
          "output_type": "stream",
          "name": "stdout",
          "text": [
            "Top 10 players is\n",
            "                      PLAYER TEAM   W   L  FGM  TOV   PTS\n",
            "44              Jayson Tatum  BOS  52  22  727  213  2225\n",
            "393              Joel Embiid  PHI  43  23  728  226  2183\n",
            "120              Luka Doncic  DAL  33  33  719  236  2138\n",
            "366  Shai Gilgeous-Alexander  OKC  33  35  704  192  2135\n",
            "287    Giannis Antetokounmpo  MIL  47  16  707  246  1959\n",
            "302          Anthony Edwards  MIN  40  39  707  259  1946\n",
            "345            Julius Randle  NYK  44  33  658  216  1936\n",
            "95          Donovan Mitchell  CLE  44  24  679  180  1922\n",
            "14                Trae Young  ATL  38  35  597  300  1914\n",
            "89               Zach LaVine  CHI  38  39  673  194  1913\n",
            "------------------------------\n",
            "The player has the second highest points is\n",
            "PLAYER    Joel Embiid\n",
            "TEAM              PHI\n",
            "W                  43\n",
            "L                  23\n",
            "FGM               728\n",
            "TOV               226\n",
            "PTS              2183\n",
            "Name: 393, dtype: object\n"
          ]
        }
      ]
    },
    {
      "cell_type": "markdown",
      "source": [
        "**c)(10 pts)** Add two new columns to the dataframe: FGP (in percentage) is the ratio of FGM to\n",
        "FGA, FTP (in percentage) is the ratio of FTM to FTA. Note that the unit should be expressed\n",
        "in percentage (ranging from 0 to 100) and rounded to 2 decimal places (e.g., for AJ Griffin,\n",
        "FGP is 46.53) (mutate(), assign()). What is the FGP and FTP for Joe Harris?"
      ],
      "metadata": {
        "id": "DxZTutFWsxZZ"
      }
    },
    {
      "cell_type": "code",
      "source": [
        "import pandas as pd\n",
        "\n",
        "# FGP (in percentage) is the ratio of FGM to FGA, FTP (in percentage) is the ratio of FTM to FTA.\n",
        "nba['FGP'] = (nba['FGM'] / nba['FGA']) * 100\n",
        "nba['FTP'] = (nba['FTM'] / nba['FTA']) * 100\n",
        "\n",
        "# Find Jor Harris's data.\n",
        "joe_FGP = nba.loc[nba['PLAYER'] == 'Joe Harris', 'FGP'].values[0]\n",
        "joe_FTP = nba.loc[nba['PLAYER'] == 'Joe Harris', 'FTP'].values[0]\n",
        "\n",
        "# Print Joe Harris's FGP and FTP.\n",
        "print(\"Joe Harris's FGP is\", round(joe_FGP, 2))\n",
        "print(\"Joe Harris's FTP is\", round(joe_FTP, 2))"
      ],
      "metadata": {
        "colab": {
          "base_uri": "https://localhost:8080/"
        },
        "id": "T9jAzCHAs1qn",
        "outputId": "7d1a34d6-9232-4206-96f4-47435e9a63a3"
      },
      "execution_count": null,
      "outputs": [
        {
          "output_type": "stream",
          "name": "stdout",
          "text": [
            "Joe Harris's FGP is 45.68\n",
            "Joe Harris's FTP is 64.29\n"
          ]
        }
      ]
    },
    {
      "cell_type": "markdown",
      "source": [
        "**d) (14 pts)** Display the average, min and max PF for each team, in descending order of the team\n",
        "average. (group_by(), summarise(), groupby(), agg()). You can exclude NAs for this\n",
        "calculation. Which team has the max PF?"
      ],
      "metadata": {
        "id": "9jQz1pAmvgQG"
      }
    },
    {
      "cell_type": "code",
      "source": [
        "import pandas as pd\n",
        "\n",
        "# Display the average, min and max PF for each team\n",
        "team_data = nba.groupby('TEAM')['PF'].agg(['mean', 'min', 'max']).reset_index()\n",
        "# In descending order of the team average.\n",
        "team_sorted = team_data.sort_values(by='mean',ascending=False)\n",
        "print(team_sorted)\n",
        "print(\"------------------------------\")\n",
        "# Find which team has the max PF.\n",
        "max_sorted = team_data.sort_values(by='max',ascending=False)\n",
        "# In descending order of the team max.\n",
        "max_PF_team = max_sorted.iloc[0]['TEAM']\n",
        "print(max_PF_team,\"has the max PF.\")"
      ],
      "metadata": {
        "colab": {
          "base_uri": "https://localhost:8080/"
        },
        "id": "L5m49Hr3vmT6",
        "outputId": "62aeb42b-9ee5-4c71-ea2a-765c36c33401"
      },
      "execution_count": null,
      "outputs": [
        {
          "output_type": "stream",
          "name": "stdout",
          "text": [
            "   TEAM        mean  min  max\n",
            "19  NYK  114.937500    0  233\n",
            "23  PHX  108.062500   32  190\n",
            "18  NOP  106.250000    1  245\n",
            "9   GSW  102.705882    0  229\n",
            "20  OKC  102.500000    5  243\n",
            "10  HOU  102.066667    1  258\n",
            "22  PHI  101.555556    0  209\n",
            "17  MIN  100.888889   10  272\n",
            "12  LAC  100.777778    2  219\n",
            "7   DEN   99.500000    9  190\n",
            "27  TOR   98.500000    3  228\n",
            "11  IND   97.666667    4  235\n",
            "4   CHI   96.235294    1  187\n",
            "0   ATL   94.055556    0  251\n",
            "14  MEM   93.555556    3  240\n",
            "1   BKN   93.450000    1  239\n",
            "8   DET   91.315789    0  242\n",
            "21  ORL   89.705882    2  183\n",
            "2   BOS   89.611111    2  192\n",
            "15  MIA   88.529412   11  208\n",
            "5   CLE   88.294118    0  218\n",
            "13  LAL   85.000000    3  190\n",
            "25  SAC   80.950000    0  279\n",
            "16  MIL   80.500000    7  203\n",
            "6   DAL   79.666667    0  209\n",
            "3   CHA   79.000000    0  193\n",
            "24  POR   78.238095    0  185\n",
            "29  WAS   74.800000    1  209\n",
            "26  SAS   70.476190    3  199\n",
            "28  UTA   69.350000    0  232\n",
            "------------------------------\n",
            "SAC has the max PF.\n"
          ]
        }
      ]
    },
    {
      "cell_type": "markdown",
      "source": [
        "**e) (16 pts)** In question 1c, you added a new column called FTP. Impute the missing (or NaN) FTP\n",
        "values as the FGP (also added in 1c) multiplied by the average FTP for that team. Make a\n",
        "second copy of your dataframe, but this time impute missing (or NaN) FTP values with just\n",
        "the average FTP for that team. What assumptions do these data filling methods make? Which\n",
        "is the best way to impute the data, or do you see a better way, and why? You may impute or\n",
        "remove other variables as you find appropriate. Briefly explain your decisions. (group_by(),\n",
        "mutate(), groupby(),assign())"
      ],
      "metadata": {
        "id": "fsbrmwju0MKj"
      }
    },
    {
      "cell_type": "code",
      "source": [
        "import pandas as pd\n",
        "\n",
        "# FGP (in percentage) is the ratio of FGM to FGA, FTP (in percentage) is the ratio of FTM to FTA.\n",
        "nba = nba.assign(FGP=lambda x: (x['FGM'] / x['FGA']) * 100)\n",
        "nba = nba.assign(FTP=lambda x: (x['FTM'] / x['FTA']) * 100)\n",
        "\n",
        "# Calculated the average FTP for that team.\n",
        "avg_FTP = nba.groupby('TEAM')['FTP'].mean()\n",
        "# Make copy.\n",
        "first_copy = nba.copy()\n",
        "# Impute the missing FTP values as the FGP multiplied by the average FTP.\n",
        "first_copy.loc[first_copy['FTP'].isnull(), 'FTP'] = first_copy['FGP'] * first_copy['TEAM'].map(avg_FTP)\n",
        "# Count and print how many missing values.\n",
        "naN_FTP_1 = first_copy['FTP'].isnull().sum()\n",
        "print(\"Find missing values use first method:\",naN_FTP_1)\n",
        "\n",
        "# Make copy.\n",
        "second_copy = nba.copy()\n",
        "# Impute missing FTP values with the average FTP.\n",
        "second_copy['FTP'] = second_copy['FTP'].fillna(second_copy['TEAM'].map(avg_FTP))\n",
        "# Count and print how many missing values.\n",
        "naN_FTP_2 = second_copy['FTP'].isnull().sum()\n",
        "print(\"Find missing values use second method:\",naN_FTP_2)"
      ],
      "metadata": {
        "id": "PxmcmhN_781u",
        "colab": {
          "base_uri": "https://localhost:8080/"
        },
        "outputId": "eba09567-16b0-4212-d09a-171712f4be19"
      },
      "execution_count": null,
      "outputs": [
        {
          "output_type": "stream",
          "name": "stdout",
          "text": [
            "Find missing values use first method: 2\n",
            "Find missing values use second method: 0\n"
          ]
        }
      ]
    }
  ]
}