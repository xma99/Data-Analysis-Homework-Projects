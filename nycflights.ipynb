{
  "nbformat": 4,
  "nbformat_minor": 0,
  "metadata": {
    "colab": {
      "provenance": []
    },
    "kernelspec": {
      "name": "python3",
      "display_name": "Python 3"
    },
    "language_info": {
      "name": "python"
    }
  },
  "cells": [
    {
      "cell_type": "markdown",
      "source": [
        "**Problem 1 (50 pts).** This problem will involve the nycflights13 dataset (including the tables\n",
        "flights, airlines, airports, planes and weather), which we saw in class. It is available in both R and\n",
        "Python, however R is recommended for at least the visualization portion of the question. You can\n",
        "get more information about this package on github at\n",
        "\n",
        "https://github.com/tidyverse/nycflights13\n",
        "\n",
        "You can access the data tables in R by loading the nycflights13 library using the following:\n",
        "\n",
        "library(nycflights13)\n",
        "\n",
        "Alternatively, you can download the csv files from the Modules page on Canvas. The files are\n",
        "flights.csv, weather.csv, planes.csv, airports.csv, airlines.csv.\n",
        "\n",
        "We will first use joins to search and manipulate the dataset, then we will produce a flight count\n",
        "visualization."
      ],
      "metadata": {
        "id": "vuzXHx7tigwy"
      }
    },
    {
      "cell_type": "markdown",
      "source": [
        "**a. (10 pts)** Filter the dataset (using a left join) to display the tail number, year, month,\n",
        "day, hour, origin, and humidity for all flights heading to Tampa International\n",
        "Airport (TPA) after 12pm on November 1, 2013. How many flights happened\n",
        "during the given time frame that day?\n"
      ],
      "metadata": {
        "id": "GFz6nq1bilqD"
      }
    },
    {
      "cell_type": "code",
      "source": [
        "import pandas as pd\n",
        "\n",
        "flights = pd.read_csv('flights.csv')\n",
        "weather = pd.read_csv('weather.csv')\n",
        "planes = pd.read_csv('planes.csv')\n",
        "airports = pd.read_csv('airports.csv')\n",
        "airlines = pd.read_csv('airlines.csv')\n",
        "\n",
        "# print(weather.head())\n",
        "# print(flights.head())\n",
        "\n",
        "# Corresponds to year, month, day and hour.\n",
        "weather['datetime'] = pd.to_datetime(weather['time_hour'])\n",
        "weather = weather.assign(\n",
        "    year=weather['datetime'].dt.year,\n",
        "    month=weather['datetime'].dt.month,\n",
        "    day=weather['datetime'].dt.day,\n",
        "    hour=weather['datetime'].dt.hour\n",
        ")\n",
        "\n",
        "# According to dest(TPA) and time to filter.\n",
        "filter_flights = flights[\n",
        "    (flights['tailnum'].notna()) &\n",
        "    (flights['dest'] == 'TPA') &\n",
        "    (flights['year'] == 2013) &\n",
        "    (flights['month'] == 11) &\n",
        "    (flights['day'] == 1) &\n",
        "    (flights['dep_time'] > 1200)\n",
        "]\n",
        "\n",
        "# Use left join.\n",
        "filtered_data = pd.merge(\n",
        "    # Left is flights data.\n",
        "    left=filter_flights,\n",
        "    # Rights is weathers data.\n",
        "    right=weather[['year', 'month', 'day', 'hour', 'origin', 'humid']],\n",
        "    # Merge those make data match,\n",
        "    on=['year', 'month', 'day', 'hour', 'origin'],\n",
        "    how='left'\n",
        ")\n",
        "\n",
        "# Display the tail number, year, month, day, hour, origin, and humidity for all flights heading to TPA after 12pm on November 1, 2013.\n",
        "flights_weather_results = filtered_data[['tailnum', 'year', 'month', 'day', 'hour', 'origin', 'humid']]\n",
        "\n",
        "# Print the result and the number of flights\n",
        "print(flights_weather_results)\n",
        "print(\"-----------------------------------------\")\n",
        "print(f\"{len(flights_weather_results)} flights happened during the given time frame that day.\")\n"
      ],
      "metadata": {
        "colab": {
          "base_uri": "https://localhost:8080/"
        },
        "id": "FKqHBmTgoyYT",
        "outputId": "a7b123b1-252c-4b35-f905-89dfa4394289"
      },
      "execution_count": null,
      "outputs": [
        {
          "output_type": "stream",
          "name": "stdout",
          "text": [
            "  tailnum  year  month  day  hour origin  humid\n",
            "0  N580JB  2013     11    1    14    JFK  88.09\n",
            "1  N337NB  2013     11    1    14    LGA  72.74\n",
            "2  N567UA  2013     11    1    15    EWR  80.49\n",
            "3  N515MQ  2013     11    1    14    JFK  88.09\n",
            "4  N779JB  2013     11    1    15    EWR  80.49\n",
            "5  N561JB  2013     11    1    16    LGA  67.57\n",
            "6  N974DL  2013     11    1    18    JFK  63.08\n",
            "7  N319NB  2013     11    1    19    LGA  50.60\n",
            "8  N76265  2013     11    1    19    EWR  52.80\n",
            "9  N768JB  2013     11    1    19    JFK  65.07\n",
            "-----------------------------------------\n",
            "10 flights happened during the given time frame that day.\n"
          ]
        }
      ]
    },
    {
      "cell_type": "markdown",
      "source": [
        "**b. (10 pts)** What is the difference between the following two joins?\n",
        "\n",
        "anti_join(flights, airports, by = c(\"dest\" = \"faa\"))\n",
        "\n",
        "anti_join(airports, flights, by = c(\"faa\" = \"dest\"))\n",
        "\n"
      ],
      "metadata": {
        "id": "OyRefC_wi_9R"
      }
    },
    {
      "cell_type": "markdown",
      "source": [
        "**Answer**\n",
        "\n",
        "First anti_join returns the \"dest\" of the flights where it cannot find a match in the airports(\"faa\").\n",
        "\n",
        "First anti_join returns the \"faa\" of the airports where it cannot find a match in the flights(\"dest\")."
      ],
      "metadata": {
        "id": "C7QwF5MF4HBx"
      }
    },
    {
      "cell_type": "markdown",
      "source": [
        "**c. (10 pts)** Select the origin and destination airports and their latitude and longitude\n",
        "for all flights in the dataset (using one or more inner joins). How many flights are\n",
        "there in your result?"
      ],
      "metadata": {
        "id": "iRg5r7IXjHkX"
      }
    },
    {
      "cell_type": "code",
      "source": [
        "import pandas as pd\n",
        "\n",
        "# Select the origin and destination airports.\n",
        "origin_data = pd.merge(flights, airports[['faa', 'lat', 'lon']], left_on='origin', right_on='faa', how='inner')\n",
        "origin_data = origin_data.rename(columns={'lat': 'origin latitude', 'lon': 'origin longitude'})\n",
        "# Use inner, only data ​​that exist in both tables will be merged.\n",
        "lat_lon_data = pd.merge(origin_data, airports[['faa', 'lat', 'lon']], left_on='dest', right_on='faa', how='inner')\n",
        "lat_lon_data = lat_lon_data.rename(columns={'lat': 'dest latitude', 'lon': 'dest longitude'})\n",
        "# Get the all flights's origin and destination airports and their latitude and longitude.\n",
        "lat_lon_data = lat_lon_data[['origin', 'origin latitude', 'origin longitude', 'dest', 'dest latitude', 'dest longitude']]\n",
        "\n",
        "print(lat_lon_data)\n",
        "print(\"------------------------------------------------\")\n",
        "print(f\"There are {len(lat_lon_data)} flights.\")\n"
      ],
      "metadata": {
        "colab": {
          "base_uri": "https://localhost:8080/"
        },
        "id": "TKAlS-b_5CR0",
        "outputId": "17d244ff-78c9-4eaa-c475-3b40e66b7355"
      },
      "execution_count": null,
      "outputs": [
        {
          "output_type": "stream",
          "name": "stdout",
          "text": [
            "       origin  origin latitude  origin longitude dest  dest latitude  \\\n",
            "0         EWR        40.692500        -74.168667  IAH      29.984433   \n",
            "1         EWR        40.692500        -74.168667  IAH      29.984433   \n",
            "2         EWR        40.692500        -74.168667  IAH      29.984433   \n",
            "3         EWR        40.692500        -74.168667  IAH      29.984433   \n",
            "4         EWR        40.692500        -74.168667  IAH      29.984433   \n",
            "...       ...              ...               ...  ...            ...   \n",
            "329169    JFK        40.639751        -73.778925  MVY      41.391667   \n",
            "329170    JFK        40.639751        -73.778925  MVY      41.391667   \n",
            "329171    JFK        40.639751        -73.778925  MVY      41.391667   \n",
            "329172    JFK        40.639751        -73.778925  MVY      41.391667   \n",
            "329173    JFK        40.639751        -73.778925  MVY      41.391667   \n",
            "\n",
            "        dest longitude  \n",
            "0           -95.341442  \n",
            "1           -95.341442  \n",
            "2           -95.341442  \n",
            "3           -95.341442  \n",
            "4           -95.341442  \n",
            "...                ...  \n",
            "329169      -70.615278  \n",
            "329170      -70.615278  \n",
            "329171      -70.615278  \n",
            "329172      -70.615278  \n",
            "329173      -70.615278  \n",
            "\n",
            "[329174 rows x 6 columns]\n",
            "------------------------------------------------\n",
            "There are 329174 flights.\n"
          ]
        }
      ]
    },
    {
      "cell_type": "markdown",
      "source": [
        "**d. (10 pts)** Use group_by and count to get the number of flights to each unique\n",
        "carrier/dest combination. How many unique combination of carrier/dest are\n",
        "present?"
      ],
      "metadata": {
        "id": "XQ7O1qLajOaJ"
      }
    },
    {
      "cell_type": "code",
      "source": [
        "# print(flights.head())\n",
        "\n",
        "# Use size().reset_index() method.\n",
        "unique_com = flights.groupby(['carrier','dest']).size().reset_index(name='counts')\n",
        "print(unique_com)\n",
        "counts_com = len(unique_com)\n",
        "print(\"------------------------------------------------------\")\n",
        "print(\"Number of unique combination of carrier/dest is:\", counts_com)"
      ],
      "metadata": {
        "colab": {
          "base_uri": "https://localhost:8080/"
        },
        "id": "HWCnPCe7AMae",
        "outputId": "1040cdf7-02ab-4039-faae-2fa3f4b13539"
      },
      "execution_count": null,
      "outputs": [
        {
          "output_type": "stream",
          "name": "stdout",
          "text": [
            "    carrier dest  counts\n",
            "0        9E  ATL      59\n",
            "1        9E  AUS       2\n",
            "2        9E  AVL      10\n",
            "3        9E  BGR       1\n",
            "4        9E  BNA     474\n",
            "..      ...  ...     ...\n",
            "309      WN  PHX     431\n",
            "310      WN  STL    1469\n",
            "311      YV  CLT     282\n",
            "312      YV  IAD     311\n",
            "313      YV  PHL       8\n",
            "\n",
            "[314 rows x 3 columns]\n",
            "------------------------------------------------------\n",
            "Number of unique combination of carrier/dest is: 314\n"
          ]
        }
      ]
    },
    {
      "cell_type": "markdown",
      "source": [
        "**e. (10 pts)** Produce a map that sizes each destination airport by the number of\n",
        "incoming flights. You may use a continuous scale for the size. Here is a code\n",
        "snippet to draw a map of all flight destinations, which you can use as a starting point. You may need to install the maps packages if you have not already. Adjust\n",
        "the title, axis labels and aesthetics to make this visualization as clear as possible.\n",
        "\n",
        "flights %>%\n",
        "\n",
        " left_join(airports, c(\"dest\" = \"faa\")) %>%\n",
        "\n",
        " ggplot(aes(lon, lat)) +\n",
        "\n",
        " borders(\"state\") +\n",
        "\n",
        " geom_point() +\n",
        "\n",
        " coord_quickmap()"
      ],
      "metadata": {
        "id": "EqUjyq97jUAx"
      }
    },
    {
      "cell_type": "code",
      "source": [
        "!pip install plotly\n",
        "import plotly.express as px"
      ],
      "metadata": {
        "colab": {
          "base_uri": "https://localhost:8080/"
        },
        "id": "awNcPBeBDMAP",
        "outputId": "36da0045-3a65-49c6-c3d5-513ad1bb210b"
      },
      "execution_count": null,
      "outputs": [
        {
          "output_type": "stream",
          "name": "stdout",
          "text": [
            "Requirement already satisfied: plotly in /usr/local/lib/python3.10/dist-packages (5.15.0)\n",
            "Requirement already satisfied: tenacity>=6.2.0 in /usr/local/lib/python3.10/dist-packages (from plotly) (8.2.3)\n",
            "Requirement already satisfied: packaging in /usr/local/lib/python3.10/dist-packages (from plotly) (23.1)\n"
          ]
        }
      ]
    },
    {
      "cell_type": "code",
      "source": [
        "# Count the number of flights at the destination.\n",
        "dest_traffic= flights.groupby('dest').size().reset_index(name='dest traffic')\n",
        "\n",
        "# Merge with airport data to get lat and lon\n",
        "location = pd.merge(dest_traffic, airports[['faa', 'lat', 'lon']], left_on='dest', right_on='faa')\n",
        "\n",
        "map_show = px.scatter_geo(\n",
        "    scope='usa',\n",
        "    data_frame=location,\n",
        "    title=\"Each destination airport by the number of incoming flights in the U.S.\",\n",
        "    lat='lat',\n",
        "    lon='lon',\n",
        "    size='dest traffic',\n",
        "    size_max=10,\n",
        "    # text=location['dest traffic'],\n",
        "    color='dest traffic'\n",
        "    # color_discrete_sequence=['red']\n",
        ")\n",
        "map_show.update_layout(width=800, height=800)\n",
        "map_show.show()"
      ],
      "metadata": {
        "colab": {
          "base_uri": "https://localhost:8080/",
          "height": 837
        },
        "id": "uZAkhtNUGnpJ",
        "outputId": "0e76eb7e-e364-4a1b-f2cb-890dbd327e65"
      },
      "execution_count": null,
      "outputs": [
        {
          "output_type": "display_data",
          "data": {
            "text/html": [
              "<html>\n",
              "<head><meta charset=\"utf-8\" /></head>\n",
              "<body>\n",
              "    <div>            <script src=\"https://cdnjs.cloudflare.com/ajax/libs/mathjax/2.7.5/MathJax.js?config=TeX-AMS-MML_SVG\"></script><script type=\"text/javascript\">if (window.MathJax && window.MathJax.Hub && window.MathJax.Hub.Config) {window.MathJax.Hub.Config({SVG: {font: \"STIX-Web\"}});}</script>                <script type=\"text/javascript\">window.PlotlyConfig = {MathJaxConfig: 'local'};</script>\n",
              "        <script charset=\"utf-8\" src=\"https://cdn.plot.ly/plotly-2.24.1.min.js\"></script>                <div id=\"3895c267-cb88-421e-9aa3-e40f1ccfc015\" class=\"plotly-graph-div\" style=\"height:800px; width:800px;\"></div>            <script type=\"text/javascript\">                                    window.PLOTLYENV=window.PLOTLYENV || {};                                    if (document.getElementById(\"3895c267-cb88-421e-9aa3-e40f1ccfc015\")) {                    Plotly.newPlot(                        \"3895c267-cb88-421e-9aa3-e40f1ccfc015\",                        [{\"geo\":\"geo\",\"hovertemplate\":\"dest traffic=%{marker.color}\\u003cbr\\u003elat=%{lat}\\u003cbr\\u003elon=%{lon}\\u003cextra\\u003e\\u003c\\u002fextra\\u003e\",\"lat\":[35.0402222,41.253053,42.748267,61.174361,33.636719,30.194528,35.436194,41.938889,44.807444,33.562942,36.124472,42.364347,44.471861,42.940525,34.200667,39.175361,45.777643,33.938833,40.9160833,38.138639,32.898647,41.411689,35.214,39.997972,38.373147,39.048836,39.902375,38.852083,39.861656,32.896828,41.533972,42.212444,39.642556,24.556111,26.072583,42.880833,36.09775,34.895556,40.481181,21.318681,29.645419,38.944533,29.984433,34.270615,39.717331,43.607333333,30.494056,36.080056,33.942536,38.0365,40.777245,33.817722,39.297606,28.429394,41.785972,35.042417,42.932556,25.79325,42.947222,43.139858,44.881956,29.993389,38.509794,41.391667,33.67975,37.721278,35.393089,41.303167,41.978603,36.894611,26.683161,45.588722,39.871944,33.434278,40.491467,33.829667,41.732581,43.646161,35.877639,37.505167,43.118866,26.536167,32.733556,29.533694,32.127583,41.708661,38.1740858,47.449,37.618972,37.3626,40.788389,38.695417,33.675667,27.395444,38.748697,43.111187,27.975472,36.198389,44.741445,35.810972,36.2818694],\"legendgroup\":\"\",\"lon\":[-106.6091944,-70.060181,-73.801692,-149.996361,-84.428067,-97.669889,-82.541806,-72.683222,-68.828139,-86.75355,-86.678194,-71.005181,-73.153278,-78.732167,-118.358667,-76.668333,-111.160151,-81.119528,-81.4421944,-78.452861,-80.040528,-81.849794,-80.943139,-82.891889,-81.593189,-84.667822,-84.219375,-77.037722,-104.673178,-97.037997,-93.663083,-83.353389,-106.917694,-81.759556,-80.15275,-85.522806,-79.937306,-82.218889,-107.21766,-157.922428,-95.278889,-77.455811,-95.341442,-77.902569,-86.294383,-110.73775,-81.687861,-115.15225,-118.408075,-84.605889,-73.872608,-118.151611,-94.713905,-81.308994,-87.752417,-89.976667,-71.435667,-80.290556,-87.896583,-89.337514,-93.221767,-90.258028,-107.894242,-70.615278,-78.928333,-122.220722,-97.600733,-95.894069,-87.904842,-76.201222,-80.095589,-122.5975,-75.241139,-112.011583,-80.232872,-116.506694,-71.420383,-70.309281,-78.787472,-77.319667,-77.672389,-81.755167,-117.189667,-98.469778,-81.202139,-86.31725,-85.7364989,-122.309306,-122.374889,-121.929022,-111.977772,-121.590778,-117.868222,-82.554389,-90.370028,-76.106311,-82.53325,-95.888111,-85.582235,-83.994028,-94.3068111],\"marker\":{\"color\":[254,265,439,8,17215,2439,275,443,375,297,6333,15508,2589,4681,371,1781,36,116,864,52,2884,4573,14064,3524,138,3941,1525,9705,7266,8738,569,9384,213,17,12055,765,1606,849,15,707,2115,5700,7198,110,2077,25,2720,5997,16174,1,1,668,2008,14082,4113,1789,1009,11728,2802,572,7185,3799,15,221,59,312,346,849,17283,1536,6554,1354,1632,4656,2875,19,376,2352,8163,2454,2416,3537,2737,686,804,10,1157,3923,13331,329,2467,284,825,1211,4339,1761,7466,315,101,631,1036],\"coloraxis\":\"coloraxis\",\"size\":[254,265,439,8,17215,2439,275,443,375,297,6333,15508,2589,4681,371,1781,36,116,864,52,2884,4573,14064,3524,138,3941,1525,9705,7266,8738,569,9384,213,17,12055,765,1606,849,15,707,2115,5700,7198,110,2077,25,2720,5997,16174,1,1,668,2008,14082,4113,1789,1009,11728,2802,572,7185,3799,15,221,59,312,346,849,17283,1536,6554,1354,1632,4656,2875,19,376,2352,8163,2454,2416,3537,2737,686,804,10,1157,3923,13331,329,2467,284,825,1211,4339,1761,7466,315,101,631,1036],\"sizemode\":\"area\",\"sizeref\":172.83,\"symbol\":\"circle\"},\"mode\":\"markers\",\"name\":\"\",\"showlegend\":false,\"type\":\"scattergeo\"}],                        {\"template\":{\"data\":{\"histogram2dcontour\":[{\"type\":\"histogram2dcontour\",\"colorbar\":{\"outlinewidth\":0,\"ticks\":\"\"},\"colorscale\":[[0.0,\"#0d0887\"],[0.1111111111111111,\"#46039f\"],[0.2222222222222222,\"#7201a8\"],[0.3333333333333333,\"#9c179e\"],[0.4444444444444444,\"#bd3786\"],[0.5555555555555556,\"#d8576b\"],[0.6666666666666666,\"#ed7953\"],[0.7777777777777778,\"#fb9f3a\"],[0.8888888888888888,\"#fdca26\"],[1.0,\"#f0f921\"]]}],\"choropleth\":[{\"type\":\"choropleth\",\"colorbar\":{\"outlinewidth\":0,\"ticks\":\"\"}}],\"histogram2d\":[{\"type\":\"histogram2d\",\"colorbar\":{\"outlinewidth\":0,\"ticks\":\"\"},\"colorscale\":[[0.0,\"#0d0887\"],[0.1111111111111111,\"#46039f\"],[0.2222222222222222,\"#7201a8\"],[0.3333333333333333,\"#9c179e\"],[0.4444444444444444,\"#bd3786\"],[0.5555555555555556,\"#d8576b\"],[0.6666666666666666,\"#ed7953\"],[0.7777777777777778,\"#fb9f3a\"],[0.8888888888888888,\"#fdca26\"],[1.0,\"#f0f921\"]]}],\"heatmap\":[{\"type\":\"heatmap\",\"colorbar\":{\"outlinewidth\":0,\"ticks\":\"\"},\"colorscale\":[[0.0,\"#0d0887\"],[0.1111111111111111,\"#46039f\"],[0.2222222222222222,\"#7201a8\"],[0.3333333333333333,\"#9c179e\"],[0.4444444444444444,\"#bd3786\"],[0.5555555555555556,\"#d8576b\"],[0.6666666666666666,\"#ed7953\"],[0.7777777777777778,\"#fb9f3a\"],[0.8888888888888888,\"#fdca26\"],[1.0,\"#f0f921\"]]}],\"heatmapgl\":[{\"type\":\"heatmapgl\",\"colorbar\":{\"outlinewidth\":0,\"ticks\":\"\"},\"colorscale\":[[0.0,\"#0d0887\"],[0.1111111111111111,\"#46039f\"],[0.2222222222222222,\"#7201a8\"],[0.3333333333333333,\"#9c179e\"],[0.4444444444444444,\"#bd3786\"],[0.5555555555555556,\"#d8576b\"],[0.6666666666666666,\"#ed7953\"],[0.7777777777777778,\"#fb9f3a\"],[0.8888888888888888,\"#fdca26\"],[1.0,\"#f0f921\"]]}],\"contourcarpet\":[{\"type\":\"contourcarpet\",\"colorbar\":{\"outlinewidth\":0,\"ticks\":\"\"}}],\"contour\":[{\"type\":\"contour\",\"colorbar\":{\"outlinewidth\":0,\"ticks\":\"\"},\"colorscale\":[[0.0,\"#0d0887\"],[0.1111111111111111,\"#46039f\"],[0.2222222222222222,\"#7201a8\"],[0.3333333333333333,\"#9c179e\"],[0.4444444444444444,\"#bd3786\"],[0.5555555555555556,\"#d8576b\"],[0.6666666666666666,\"#ed7953\"],[0.7777777777777778,\"#fb9f3a\"],[0.8888888888888888,\"#fdca26\"],[1.0,\"#f0f921\"]]}],\"surface\":[{\"type\":\"surface\",\"colorbar\":{\"outlinewidth\":0,\"ticks\":\"\"},\"colorscale\":[[0.0,\"#0d0887\"],[0.1111111111111111,\"#46039f\"],[0.2222222222222222,\"#7201a8\"],[0.3333333333333333,\"#9c179e\"],[0.4444444444444444,\"#bd3786\"],[0.5555555555555556,\"#d8576b\"],[0.6666666666666666,\"#ed7953\"],[0.7777777777777778,\"#fb9f3a\"],[0.8888888888888888,\"#fdca26\"],[1.0,\"#f0f921\"]]}],\"mesh3d\":[{\"type\":\"mesh3d\",\"colorbar\":{\"outlinewidth\":0,\"ticks\":\"\"}}],\"scatter\":[{\"fillpattern\":{\"fillmode\":\"overlay\",\"size\":10,\"solidity\":0.2},\"type\":\"scatter\"}],\"parcoords\":[{\"type\":\"parcoords\",\"line\":{\"colorbar\":{\"outlinewidth\":0,\"ticks\":\"\"}}}],\"scatterpolargl\":[{\"type\":\"scatterpolargl\",\"marker\":{\"colorbar\":{\"outlinewidth\":0,\"ticks\":\"\"}}}],\"bar\":[{\"error_x\":{\"color\":\"#2a3f5f\"},\"error_y\":{\"color\":\"#2a3f5f\"},\"marker\":{\"line\":{\"color\":\"#E5ECF6\",\"width\":0.5},\"pattern\":{\"fillmode\":\"overlay\",\"size\":10,\"solidity\":0.2}},\"type\":\"bar\"}],\"scattergeo\":[{\"type\":\"scattergeo\",\"marker\":{\"colorbar\":{\"outlinewidth\":0,\"ticks\":\"\"}}}],\"scatterpolar\":[{\"type\":\"scatterpolar\",\"marker\":{\"colorbar\":{\"outlinewidth\":0,\"ticks\":\"\"}}}],\"histogram\":[{\"marker\":{\"pattern\":{\"fillmode\":\"overlay\",\"size\":10,\"solidity\":0.2}},\"type\":\"histogram\"}],\"scattergl\":[{\"type\":\"scattergl\",\"marker\":{\"colorbar\":{\"outlinewidth\":0,\"ticks\":\"\"}}}],\"scatter3d\":[{\"type\":\"scatter3d\",\"line\":{\"colorbar\":{\"outlinewidth\":0,\"ticks\":\"\"}},\"marker\":{\"colorbar\":{\"outlinewidth\":0,\"ticks\":\"\"}}}],\"scattermapbox\":[{\"type\":\"scattermapbox\",\"marker\":{\"colorbar\":{\"outlinewidth\":0,\"ticks\":\"\"}}}],\"scatterternary\":[{\"type\":\"scatterternary\",\"marker\":{\"colorbar\":{\"outlinewidth\":0,\"ticks\":\"\"}}}],\"scattercarpet\":[{\"type\":\"scattercarpet\",\"marker\":{\"colorbar\":{\"outlinewidth\":0,\"ticks\":\"\"}}}],\"carpet\":[{\"aaxis\":{\"endlinecolor\":\"#2a3f5f\",\"gridcolor\":\"white\",\"linecolor\":\"white\",\"minorgridcolor\":\"white\",\"startlinecolor\":\"#2a3f5f\"},\"baxis\":{\"endlinecolor\":\"#2a3f5f\",\"gridcolor\":\"white\",\"linecolor\":\"white\",\"minorgridcolor\":\"white\",\"startlinecolor\":\"#2a3f5f\"},\"type\":\"carpet\"}],\"table\":[{\"cells\":{\"fill\":{\"color\":\"#EBF0F8\"},\"line\":{\"color\":\"white\"}},\"header\":{\"fill\":{\"color\":\"#C8D4E3\"},\"line\":{\"color\":\"white\"}},\"type\":\"table\"}],\"barpolar\":[{\"marker\":{\"line\":{\"color\":\"#E5ECF6\",\"width\":0.5},\"pattern\":{\"fillmode\":\"overlay\",\"size\":10,\"solidity\":0.2}},\"type\":\"barpolar\"}],\"pie\":[{\"automargin\":true,\"type\":\"pie\"}]},\"layout\":{\"autotypenumbers\":\"strict\",\"colorway\":[\"#636efa\",\"#EF553B\",\"#00cc96\",\"#ab63fa\",\"#FFA15A\",\"#19d3f3\",\"#FF6692\",\"#B6E880\",\"#FF97FF\",\"#FECB52\"],\"font\":{\"color\":\"#2a3f5f\"},\"hovermode\":\"closest\",\"hoverlabel\":{\"align\":\"left\"},\"paper_bgcolor\":\"white\",\"plot_bgcolor\":\"#E5ECF6\",\"polar\":{\"bgcolor\":\"#E5ECF6\",\"angularaxis\":{\"gridcolor\":\"white\",\"linecolor\":\"white\",\"ticks\":\"\"},\"radialaxis\":{\"gridcolor\":\"white\",\"linecolor\":\"white\",\"ticks\":\"\"}},\"ternary\":{\"bgcolor\":\"#E5ECF6\",\"aaxis\":{\"gridcolor\":\"white\",\"linecolor\":\"white\",\"ticks\":\"\"},\"baxis\":{\"gridcolor\":\"white\",\"linecolor\":\"white\",\"ticks\":\"\"},\"caxis\":{\"gridcolor\":\"white\",\"linecolor\":\"white\",\"ticks\":\"\"}},\"coloraxis\":{\"colorbar\":{\"outlinewidth\":0,\"ticks\":\"\"}},\"colorscale\":{\"sequential\":[[0.0,\"#0d0887\"],[0.1111111111111111,\"#46039f\"],[0.2222222222222222,\"#7201a8\"],[0.3333333333333333,\"#9c179e\"],[0.4444444444444444,\"#bd3786\"],[0.5555555555555556,\"#d8576b\"],[0.6666666666666666,\"#ed7953\"],[0.7777777777777778,\"#fb9f3a\"],[0.8888888888888888,\"#fdca26\"],[1.0,\"#f0f921\"]],\"sequentialminus\":[[0.0,\"#0d0887\"],[0.1111111111111111,\"#46039f\"],[0.2222222222222222,\"#7201a8\"],[0.3333333333333333,\"#9c179e\"],[0.4444444444444444,\"#bd3786\"],[0.5555555555555556,\"#d8576b\"],[0.6666666666666666,\"#ed7953\"],[0.7777777777777778,\"#fb9f3a\"],[0.8888888888888888,\"#fdca26\"],[1.0,\"#f0f921\"]],\"diverging\":[[0,\"#8e0152\"],[0.1,\"#c51b7d\"],[0.2,\"#de77ae\"],[0.3,\"#f1b6da\"],[0.4,\"#fde0ef\"],[0.5,\"#f7f7f7\"],[0.6,\"#e6f5d0\"],[0.7,\"#b8e186\"],[0.8,\"#7fbc41\"],[0.9,\"#4d9221\"],[1,\"#276419\"]]},\"xaxis\":{\"gridcolor\":\"white\",\"linecolor\":\"white\",\"ticks\":\"\",\"title\":{\"standoff\":15},\"zerolinecolor\":\"white\",\"automargin\":true,\"zerolinewidth\":2},\"yaxis\":{\"gridcolor\":\"white\",\"linecolor\":\"white\",\"ticks\":\"\",\"title\":{\"standoff\":15},\"zerolinecolor\":\"white\",\"automargin\":true,\"zerolinewidth\":2},\"scene\":{\"xaxis\":{\"backgroundcolor\":\"#E5ECF6\",\"gridcolor\":\"white\",\"linecolor\":\"white\",\"showbackground\":true,\"ticks\":\"\",\"zerolinecolor\":\"white\",\"gridwidth\":2},\"yaxis\":{\"backgroundcolor\":\"#E5ECF6\",\"gridcolor\":\"white\",\"linecolor\":\"white\",\"showbackground\":true,\"ticks\":\"\",\"zerolinecolor\":\"white\",\"gridwidth\":2},\"zaxis\":{\"backgroundcolor\":\"#E5ECF6\",\"gridcolor\":\"white\",\"linecolor\":\"white\",\"showbackground\":true,\"ticks\":\"\",\"zerolinecolor\":\"white\",\"gridwidth\":2}},\"shapedefaults\":{\"line\":{\"color\":\"#2a3f5f\"}},\"annotationdefaults\":{\"arrowcolor\":\"#2a3f5f\",\"arrowhead\":0,\"arrowwidth\":1},\"geo\":{\"bgcolor\":\"white\",\"landcolor\":\"#E5ECF6\",\"subunitcolor\":\"white\",\"showland\":true,\"showlakes\":true,\"lakecolor\":\"white\"},\"title\":{\"x\":0.05},\"mapbox\":{\"style\":\"light\"}}},\"geo\":{\"domain\":{\"x\":[0.0,1.0],\"y\":[0.0,1.0]},\"center\":{},\"scope\":\"usa\"},\"coloraxis\":{\"colorbar\":{\"title\":{\"text\":\"dest traffic\"}},\"colorscale\":[[0.0,\"#0d0887\"],[0.1111111111111111,\"#46039f\"],[0.2222222222222222,\"#7201a8\"],[0.3333333333333333,\"#9c179e\"],[0.4444444444444444,\"#bd3786\"],[0.5555555555555556,\"#d8576b\"],[0.6666666666666666,\"#ed7953\"],[0.7777777777777778,\"#fb9f3a\"],[0.8888888888888888,\"#fdca26\"],[1.0,\"#f0f921\"]]},\"legend\":{\"tracegroupgap\":0,\"itemsizing\":\"constant\"},\"title\":{\"text\":\"Each destination airport by the number of incoming flights in the U.S.\"},\"width\":800,\"height\":800},                        {\"responsive\": true}                    ).then(function(){\n",
              "                            \n",
              "var gd = document.getElementById('3895c267-cb88-421e-9aa3-e40f1ccfc015');\n",
              "var x = new MutationObserver(function (mutations, observer) {{\n",
              "        var display = window.getComputedStyle(gd).display;\n",
              "        if (!display || display === 'none') {{\n",
              "            console.log([gd, 'removed!']);\n",
              "            Plotly.purge(gd);\n",
              "            observer.disconnect();\n",
              "        }}\n",
              "}});\n",
              "\n",
              "// Listen for the removal of the full notebook cells\n",
              "var notebookContainer = gd.closest('#notebook-container');\n",
              "if (notebookContainer) {{\n",
              "    x.observe(notebookContainer, {childList: true});\n",
              "}}\n",
              "\n",
              "// Listen for the clearing of the current output cell\n",
              "var outputEl = gd.closest('.output');\n",
              "if (outputEl) {{\n",
              "    x.observe(outputEl, {childList: true});\n",
              "}}\n",
              "\n",
              "                        })                };                            </script>        </div>\n",
              "</body>\n",
              "</html>"
            ]
          },
          "metadata": {}
        }
      ]
    }
  ]
}